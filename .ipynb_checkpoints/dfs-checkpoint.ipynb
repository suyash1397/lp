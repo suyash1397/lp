{
 "cells": [
  {
   "cell_type": "code",
   "execution_count": 1,
   "id": "11bf4152",
   "metadata": {},
   "outputs": [
    {
     "name": "stdout",
     "output_type": "stream",
     "text": [
      "B\n",
      "D\n",
      "E\n",
      "F\n"
     ]
    }
   ],
   "source": [
    "graph={\n",
    "    'A':['B','C'],\n",
    "    'B':['D','E'],\n",
    "    'C':['F'],\n",
    "    'D':[],\n",
    "    'E':['F'],\n",
    "    'F':[]\n",
    "}\n",
    "visited=set()\n",
    "def dfs(graph,visited,node):\n",
    "    if node not in visited:\n",
    "        print(node)\n",
    "        visited.add(node)\n",
    "        for neighbours in graph[node]:\n",
    "            dfs(graph,visited,neighbours)\n",
    "            \n",
    "dfs(graph,visited,'B')"
   ]
  },
  {
   "cell_type": "code",
   "execution_count": null,
   "id": "e307a5a9",
   "metadata": {},
   "outputs": [],
   "source": []
  }
 ],
 "metadata": {
  "kernelspec": {
   "display_name": "Python 3 (ipykernel)",
   "language": "python",
   "name": "python3"
  },
  "language_info": {
   "codemirror_mode": {
    "name": "ipython",
    "version": 3
   },
   "file_extension": ".py",
   "mimetype": "text/x-python",
   "name": "python",
   "nbconvert_exporter": "python",
   "pygments_lexer": "ipython3",
   "version": "3.10.1"
  }
 },
 "nbformat": 4,
 "nbformat_minor": 5
}
