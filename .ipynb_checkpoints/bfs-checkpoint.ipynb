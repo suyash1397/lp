{
 "cells": [
  {
   "cell_type": "code",
   "execution_count": 1,
   "id": "4b06f3e6",
   "metadata": {},
   "outputs": [],
   "source": [
    "graph={\n",
    "    'A':['B','C'],\n",
    "    'B':['D','E'],\n",
    "    'C':['F'],\n",
    "    'D':[],\n",
    "    'E':['F'],\n",
    "    'F':[]\n",
    "}"
   ]
  },
  {
   "cell_type": "code",
   "execution_count": 2,
   "id": "bad54d25",
   "metadata": {},
   "outputs": [],
   "source": [
    "visited=[]\n",
    "queue=[]"
   ]
  },
  {
   "cell_type": "code",
   "execution_count": 3,
   "id": "500283c8",
   "metadata": {},
   "outputs": [
    {
     "name": "stdout",
     "output_type": "stream",
     "text": [
      "B D E F "
     ]
    }
   ],
   "source": [
    "def bfs(graph,visited,node):\n",
    "    queue.append(node)\n",
    "    visited.append(node)\n",
    "    while (queue):\n",
    "        st=queue.pop(0)\n",
    "        print(st,end=\" \")\n",
    "        for neighbours in graph[st]:\n",
    "            if neighbours not in visited:\n",
    "                queue.append(neighbours)\n",
    "                visited.append(neighbours)\n",
    "bfs(graph,visited,'B')\n",
    "        "
   ]
  },
  {
   "cell_type": "code",
   "execution_count": null,
   "id": "47f2d566",
   "metadata": {},
   "outputs": [],
   "source": []
  },
  {
   "cell_type": "code",
   "execution_count": null,
   "id": "5fca5558",
   "metadata": {},
   "outputs": [],
   "source": []
  }
 ],
 "metadata": {
  "kernelspec": {
   "display_name": "Python 3 (ipykernel)",
   "language": "python",
   "name": "python3"
  },
  "language_info": {
   "codemirror_mode": {
    "name": "ipython",
    "version": 3
   },
   "file_extension": ".py",
   "mimetype": "text/x-python",
   "name": "python",
   "nbconvert_exporter": "python",
   "pygments_lexer": "ipython3",
   "version": "3.10.1"
  }
 },
 "nbformat": 4,
 "nbformat_minor": 5
}
