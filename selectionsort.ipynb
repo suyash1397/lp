{
 "cells": [
  {
   "cell_type": "code",
   "execution_count": null,
   "id": "64426056",
   "metadata": {},
   "outputs": [],
   "source": [
    "def selectionsort(arr,size):\n",
    "    min_ind=0;\n",
    "    for i in range(size):\n",
    "        min_ind=i\n",
    "        for j in range(i+1,size):\n",
    "            if arr[min_ind]>arr[j]:\n",
    "                min_ind=j\n",
    "        (arr[min_ind],arr[i])=(arr[i],arr[min_ind])\n",
    "\n",
    "arr=[]\n",
    "n=int(input(\"Enter number of elements\"))\n",
    "for i in range(n):\n",
    "    ele=int(input())\n",
    "    arr.append(ele)\n",
    "selectionsort(arr,size)\n",
    "print(arr)        "
   ]
  },
  {
   "cell_type": "code",
   "execution_count": null,
   "id": "75655999",
   "metadata": {},
   "outputs": [],
   "source": []
  },
  {
   "cell_type": "code",
   "execution_count": null,
   "id": "ac5c37cb",
   "metadata": {},
   "outputs": [],
   "source": []
  }
 ],
 "metadata": {
  "kernelspec": {
   "display_name": "Python 3 (ipykernel)",
   "language": "python",
   "name": "python3"
  },
  "language_info": {
   "codemirror_mode": {
    "name": "ipython",
    "version": 3
   },
   "file_extension": ".py",
   "mimetype": "text/x-python",
   "name": "python",
   "nbconvert_exporter": "python",
   "pygments_lexer": "ipython3",
   "version": "3.10.6"
  }
 },
 "nbformat": 4,
 "nbformat_minor": 5
}
