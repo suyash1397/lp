{
 "cells": [
  {
   "cell_type": "code",
   "execution_count": 9,
   "id": "f19edc33",
   "metadata": {},
   "outputs": [
    {
     "name": "stdout",
     "output_type": "stream",
     "text": [
      "[1, 0, 2, 3, 4]\n"
     ]
    }
   ],
   "source": [
    "from numpy import Inf\n",
    "def Dijkstras(graph,start):\n",
    "    l=len(graph)\n",
    "    dis=[Inf for i in range(l)]\n",
    "    dis[start]=0\n",
    "    vis=[False for i in range(l)]\n",
    "    \n",
    "    for i in range(l):\n",
    "        u=-1\n",
    "        for x in range(l):\n",
    "            if not vis[x] and (u==-1 or dis[x]<dis[u]):\n",
    "                u=x\n",
    "        if dis[u]==Inf:\n",
    "            break\n",
    "        vis[u]=True\n",
    "        for v,d in graph[u]:\n",
    "            if dis[u]+d<dis[v]:\n",
    "                dis[v]=dis[u]+d\n",
    "                \n",
    "    return dis\n",
    "\n",
    "graph = {\n",
    "    0: [(1, 1)],\n",
    "    1: [(0, 1), (2, 2), (3, 3)],\n",
    "    2: [(1, 2), (3, 1), (4, 5)],\n",
    "    3: [(1, 3), (2, 1), (4, 1)],\n",
    "    4: [(2, 5), (3, 1)]\n",
    "}\n",
    "print(Dijkstras(graph,1))"
   ]
  },
  {
   "cell_type": "code",
   "execution_count": null,
   "id": "52e2968a",
   "metadata": {},
   "outputs": [],
   "source": []
  }
 ],
 "metadata": {
  "kernelspec": {
   "display_name": "Python 3 (ipykernel)",
   "language": "python",
   "name": "python3"
  },
  "language_info": {
   "codemirror_mode": {
    "name": "ipython",
    "version": 3
   },
   "file_extension": ".py",
   "mimetype": "text/x-python",
   "name": "python",
   "nbconvert_exporter": "python",
   "pygments_lexer": "ipython3",
   "version": "3.10.6"
  }
 },
 "nbformat": 4,
 "nbformat_minor": 5
}
