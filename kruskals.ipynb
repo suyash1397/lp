{
 "cells": [
  {
   "cell_type": "code",
   "execution_count": 10,
   "id": "ad8243ed",
   "metadata": {},
   "outputs": [
    {
     "name": "stdout",
     "output_type": "stream",
     "text": [
      "{(1, 3, 1), (2, 3, 4), (0, 3, 3)}\n"
     ]
    }
   ],
   "source": [
    "class Graph:\n",
    "    def __init__(self,vertices):\n",
    "        self.vertices=vertices\n",
    "        self.edges=[]\n",
    "        self.adjacencylist={v:[] for v in vertices}\n",
    "    \n",
    "    def add_edge(self,u,v,weight):\n",
    "        self.edges.append((u,v,weight))\n",
    "        self.adjacencylist[u].append((v,weight))\n",
    "        self.adjacencylist[v].append((u,weight))\n",
    "        \n",
    "    def findParent(self,parent,i):\n",
    "        if parent[i]==i:\n",
    "            return i;\n",
    "        return self.findParent(parent,parent[i])\n",
    "    \n",
    "    def union(self,parent,rank,x,y):\n",
    "        root_x=self.findParent(parent,x)\n",
    "        root_y=self.findParent(parent,y)\n",
    "        if rank[root_x]<rank[root_y]:\n",
    "            parent[root_x]=root_y\n",
    "        elif rank[root_y]<rank[root_x]:\n",
    "            parent[root_y]=root_x\n",
    "        else:\n",
    "            parent[root_y]=root_x\n",
    "            rank[root_x]+=1\n",
    "    \n",
    "    def kruskal(self):\n",
    "        minimum_spanning_tree=set()\n",
    "        parent={}\n",
    "        rank={}\n",
    "        for i in self.vertices:\n",
    "            parent[i]=i\n",
    "            rank[i]=0\n",
    "        sorted_edges=sorted(self.edges, key=lambda x:x[2])\n",
    "        for edge in sorted_edges:\n",
    "            u,v,w=edge\n",
    "            root_u=self.findParent(parent,u)\n",
    "            root_v=self.findParent(parent,v)\n",
    "            if root_u!=root_v:\n",
    "                minimum_spanning_tree.add(edge)\n",
    "                self.union(parent,rank,root_u,root_v)\n",
    "        return minimum_spanning_tree\n",
    "vertices = [0, 1, 2, 3]  \n",
    "g = Graph(vertices)  \n",
    "g.add_edge(0, 1, 5)  \n",
    "g.add_edge(0, 2, 10)  \n",
    "g.add_edge(0, 3, 3)  \n",
    "g.add_edge(1, 3, 1)  \n",
    "g.add_edge(2, 3, 4)  \n",
    "minimum_spanning_tree = g.kruskal()  \n",
    "print(minimum_spanning_tree) \n",
    "            "
   ]
  },
  {
   "cell_type": "code",
   "execution_count": null,
   "id": "f662bb5a",
   "metadata": {},
   "outputs": [],
   "source": []
  }
 ],
 "metadata": {
  "kernelspec": {
   "display_name": "Python 3 (ipykernel)",
   "language": "python",
   "name": "python3"
  },
  "language_info": {
   "codemirror_mode": {
    "name": "ipython",
    "version": 3
   },
   "file_extension": ".py",
   "mimetype": "text/x-python",
   "name": "python",
   "nbconvert_exporter": "python",
   "pygments_lexer": "ipython3",
   "version": "3.10.6"
  }
 },
 "nbformat": 4,
 "nbformat_minor": 5
}
