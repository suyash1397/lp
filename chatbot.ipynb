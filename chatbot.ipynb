{
 "cells": [
  {
   "cell_type": "code",
   "execution_count": null,
   "id": "a1cbaab2",
   "metadata": {},
   "outputs": [],
   "source": [
    "!pip install pyttsx3\n",
    "!pip install keyboard\n",
    "from tkinter import *\n",
    "import pyttsx3\n",
    "\n",
    "root = Tk() \n",
    "root.title(\"Chatbot\")\n",
    "\n",
    "engine = pyttsx3.init('sapi5')\n",
    "voices = engine.getProperty('voices')\n",
    "engine.setProperty('voice', voices[0].id)\n",
    "engine.setProperty('rate', 160 )\n",
    "\n",
    "def speak(audio):\n",
    "    engine.say(audio)\n",
    "    engine.runAndWait()\n",
    "\n",
    "def send():\n",
    "    send = \"\\nYou-> \"+e.get()\n",
    "    txt.insert(END, send)\n",
    "    user = e.get().lower()\n",
    "    if(user== \"hello\"):\n",
    "        speak(\"Hi\")\n",
    "        txt.insert(END, \"\\n\" + \"Bot -> Hi\")\n",
    "    elif(user == \"hi\" or user == \"hii\" or user == \"hii\"):\n",
    "        speak(\"Hello\")\n",
    "        txt.insert(END, \"\\n\" + \"Bot -> Hello\")\n",
    "    elif(e.get()== \"how are you\"):\n",
    "        speak(\"fine! and you\")\n",
    "        txt.insert(END, \"\\n\" + \"Bot-> fine! and you\")\n",
    "    elif(user == \"fine\" or user == \"i am good\" or user == \"i am doing good\"):\n",
    "        speak(\"Great! how can I help you?\")\n",
    "        txt.insert(END, \"\\n\" +\"Bot-> Great! how can I help you?\")\n",
    "    else:\n",
    "        speak(\"Sorry! I dind't got you\")\n",
    "        txt.insert(END, \"\\n\"+ \"Bot-> Sorry! I dind't got you\")\n",
    "    e.delete(0, END)\n",
    "\n",
    "txt = Text(root)\n",
    "txt.grid(row=0, column=0, columnspan=2)\n",
    "e= Entry(root, width=100)\n",
    "e.grid(row=1, column=0) \n",
    "send = Button(root, text=\"Send\", command=send)\n",
    "send.grid(row=1, column=1)\n",
    "root.bind('<Return>', lambda e: send(e))\n",
    "root.mainloop()"
   ]
  },
  {
   "cell_type": "code",
   "execution_count": null,
   "id": "7ab11c3d",
   "metadata": {},
   "outputs": [],
   "source": []
  }
 ],
 "metadata": {
  "kernelspec": {
   "display_name": "Python 3 (ipykernel)",
   "language": "python",
   "name": "python3"
  },
  "language_info": {
   "codemirror_mode": {
    "name": "ipython",
    "version": 3
   },
   "file_extension": ".py",
   "mimetype": "text/x-python",
   "name": "python",
   "nbconvert_exporter": "python",
   "pygments_lexer": "ipython3",
   "version": "3.10.6"
  }
 },
 "nbformat": 4,
 "nbformat_minor": 5
}
