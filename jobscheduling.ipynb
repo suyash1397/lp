{
 "cells": [
  {
   "cell_type": "code",
   "execution_count": 3,
   "id": "06ee5665",
   "metadata": {},
   "outputs": [
    {
     "name": "stdout",
     "output_type": "stream",
     "text": [
      "job scheduled ['j2', 'j1', 'j3', 'j5']\n",
      "290\n"
     ]
    }
   ],
   "source": [
    "profit = [25,15,100,10, 150]\n",
    "jobs = [\"j1\", \"j2\", \"j3\", \"j4\", \"j5\"]\n",
    "deadline = [2,3,3,3,4] \n",
    "printNjobs=list(zip(profit,jobs,deadline))\n",
    "printNjobs=sorted(printNjobs,key=lambda x:x[0],reverse=True)\n",
    "\n",
    "slot=[]\n",
    "for i in range(len(jobs)):\n",
    "    slot.append(0)\n",
    "    \n",
    "profit=0\n",
    "ans=[]\n",
    "\n",
    "for i in range(len(jobs)):\n",
    "    ans.append(\"null\")\n",
    "    \n",
    "for i in range(len(jobs)):\n",
    "    job=printNjobs[i]\n",
    "    for j in range(job[2],0,-1):\n",
    "        if slot[j]==0:\n",
    "            ans[j]=job[1]\n",
    "            profit+=job[0]\n",
    "            slot[j]=1\n",
    "            break\n",
    "            \n",
    "print(\"job scheduled\",ans[1:])\n",
    "print(profit)"
   ]
  },
  {
   "cell_type": "code",
   "execution_count": null,
   "id": "1980691d",
   "metadata": {},
   "outputs": [],
   "source": []
  }
 ],
 "metadata": {
  "kernelspec": {
   "display_name": "Python 3 (ipykernel)",
   "language": "python",
   "name": "python3"
  },
  "language_info": {
   "codemirror_mode": {
    "name": "ipython",
    "version": 3
   },
   "file_extension": ".py",
   "mimetype": "text/x-python",
   "name": "python",
   "nbconvert_exporter": "python",
   "pygments_lexer": "ipython3",
   "version": "3.10.6"
  }
 },
 "nbformat": 4,
 "nbformat_minor": 5
}
